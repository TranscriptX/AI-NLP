{
 "cells": [
  {
   "cell_type": "code",
   "execution_count": 1,
   "metadata": {},
   "outputs": [
    {
     "name": "stderr",
     "output_type": "stream",
     "text": [
      "c:\\Users\\PC\\anaconda3\\envs\\main-gpu\\lib\\site-packages\\tqdm\\auto.py:21: TqdmWarning: IProgress not found. Please update jupyter and ipywidgets. See https://ipywidgets.readthedocs.io/en/stable/user_install.html\n",
      "  from .autonotebook import tqdm as notebook_tqdm\n"
     ]
    }
   ],
   "source": [
    "from transformers import AutoModelForSeq2SeqLM, AutoTokenizer"
   ]
  },
  {
   "cell_type": "code",
   "execution_count": 2,
   "metadata": {},
   "outputs": [],
   "source": [
    "model_path = \"../models/bart\""
   ]
  },
  {
   "cell_type": "code",
   "execution_count": 3,
   "metadata": {},
   "outputs": [
    {
     "name": "stderr",
     "output_type": "stream",
     "text": [
      "c:\\Users\\PC\\anaconda3\\envs\\main-gpu\\lib\\site-packages\\transformers\\models\\bart\\configuration_bart.py:176: UserWarning: Please make sure the config includes `forced_bos_token_id=0` in future versions. The config can simply be saved and uploaded again to be fixed.\n",
      "  warnings.warn(\n"
     ]
    }
   ],
   "source": [
    "model = AutoModelForSeq2SeqLM.from_pretrained(model_path)\n",
    "tokenizer = AutoTokenizer.from_pretrained(model_path)"
   ]
  },
  {
   "cell_type": "code",
   "execution_count": null,
   "metadata": {},
   "outputs": [],
   "source": [
    "def summarize_text(text, max_input=1024):\n",
    "    # Set max_output to half the input length (but no more than 256)\n",
    "    max_output = min(len(text.split()) // 2, 256)  \n",
    "\n",
    "    inputs = tokenizer(text, return_tensors=\"pt\", max_length=max_input, truncation=True)\n",
    "    \n",
    "    summary_ids = model.generate(\n",
    "        **inputs, \n",
    "        max_length=max_output, \n",
    "        num_beams=4, \n",
    "        length_penalty=2,\n",
    "        early_stopping=True\n",
    "    )\n",
    "\n",
    "    return tokenizer.decode(summary_ids[0], skip_special_tokens=True)\n"
   ]
  },
  {
   "cell_type": "code",
   "execution_count": 28,
   "metadata": {},
   "outputs": [
    {
     "name": "stdout",
     "output_type": "stream",
     "text": [
      "Artificial Intelligence (AI) has rapidly evolved over the past few decades, transforming industries, economies, and everyday life. As AI continues to advance, it raises critical questions about its impact on jobs, privacy, ethics, and the future of humanity. The key to maximizing AI’s potential while minimizing risks lies in responsible AI development, regulatory frameworks, and international collaboration.\n"
     ]
    }
   ],
   "source": [
    "sample_text = \"\"\"\n",
    "Title: The Evolution of Artificial Intelligence and Its Impact on Society\n",
    "\n",
    "Artificial Intelligence (AI) has rapidly evolved over the past few decades, transforming industries, economies, and everyday life. From early rule-based systems to advanced deep learning models, AI has demonstrated remarkable capabilities, from speech recognition and image processing to decision-making and autonomous robotics. As AI continues to advance, it raises critical questions about its impact on jobs, privacy, ethics, and the future of humanity.\n",
    "\n",
    "1. The History and Development of AI\n",
    "The concept of artificial intelligence dates back to the 1950s when Alan Turing introduced the idea of a machine capable of simulating human intelligence. Early AI research focused on symbolic reasoning and expert systems, which could solve problems using pre-defined rules. However, these systems struggled with real-world uncertainty.\n",
    "\n",
    "The emergence of machine learning in the 1990s marked a significant shift. Instead of relying on explicit rules, machine learning algorithms learned patterns from data. The rise of deep learning in the 2010s, powered by neural networks and large datasets, enabled breakthroughs in computer vision, natural language processing, and robotics. Models like OpenAI's GPT and DeepMind’s AlphaGo showcased AI's ability to perform tasks previously thought to be exclusive to humans.\n",
    "\n",
    "2. AI's Impact on Industries\n",
    "AI is now embedded in multiple sectors, revolutionizing business operations and improving efficiency.\n",
    "\n",
    "Healthcare: AI-powered diagnostics, robotic surgeries, and personalized treatment plans are enhancing patient care. Machine learning algorithms can detect diseases like cancer in early stages, improving survival rates.\n",
    "\n",
    "Finance: AI-driven fraud detection, algorithmic trading, and customer service chatbots have reshaped the financial landscape. Banks use AI to analyze transactions and detect suspicious activity in real time.\n",
    "\n",
    "Education: Personalized learning platforms leverage AI to adapt content based on student performance, making education more effective. AI tutors provide real-time assistance, closing gaps in traditional teaching methods.\n",
    "\n",
    "Transportation: Autonomous vehicles, smart traffic systems, and predictive maintenance are making transportation safer and more efficient. Companies like Tesla, Waymo, and Uber are investing heavily in self-driving technology.\n",
    "\n",
    "3. The Ethical and Social Challenges of AI\n",
    "Despite its benefits, AI poses significant ethical concerns. One major issue is bias in AI models. Since AI learns from historical data, it can inherit and amplify existing biases, leading to unfair treatment in hiring, lending, and law enforcement.\n",
    "\n",
    "Another concern is job displacement. Automation threatens traditional jobs, particularly in manufacturing, customer service, and logistics. While AI creates new job opportunities in AI development and maintenance, retraining the workforce remains a challenge.\n",
    "\n",
    "Privacy is also a growing issue. AI-powered surveillance, facial recognition, and data collection raise concerns about mass monitoring and the erosion of personal privacy. Governments and organizations must establish regulations to protect individuals from misuse of AI technologies.\n",
    "\n",
    "4. The Future of AI: Risks and Opportunities\n",
    "Looking ahead, AI is expected to become even more integrated into daily life. Advanced AGI (Artificial General Intelligence), which mimics human cognitive abilities, could lead to breakthroughs in science, medicine, and space exploration.\n",
    "\n",
    "However, experts warn about potential risks, including AI surpassing human control. The development of AI-driven weapons, mass misinformation, and economic inequalities could create global instability. Organizations like OpenAI and DeepMind emphasize the importance of AI alignment research to ensure AI systems align with human values and safety standards.\n",
    "\n",
    "5. Conclusion: The Need for Responsible AI Development\n",
    "Artificial Intelligence is transforming the world at an unprecedented pace. While it offers immense benefits in healthcare, finance, education, and transportation, it also presents ethical, economic, and societal challenges. The key to maximizing AI’s potential while minimizing risks lies in responsible AI development, regulatory frameworks, and international collaboration.\n",
    "\n",
    "The coming years will shape the trajectory of AI. By focusing on ethical AI, unbiased models, workforce adaptation, and privacy protections, humanity can harness the power of AI for a safer, fairer, and more prosperous future.\n",
    "\"\"\"\n",
    "summary = summarize_text(sample_text)\n",
    "print(summary)"
   ]
  }
 ],
 "metadata": {
  "kernelspec": {
   "display_name": "main-gpu",
   "language": "python",
   "name": "python3"
  },
  "language_info": {
   "codemirror_mode": {
    "name": "ipython",
    "version": 3
   },
   "file_extension": ".py",
   "mimetype": "text/x-python",
   "name": "python",
   "nbconvert_exporter": "python",
   "pygments_lexer": "ipython3",
   "version": "3.10.16"
  }
 },
 "nbformat": 4,
 "nbformat_minor": 2
}
