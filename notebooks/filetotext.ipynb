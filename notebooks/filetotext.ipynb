{
 "cells": [
  {
   "cell_type": "code",
   "execution_count": 1,
   "metadata": {},
   "outputs": [],
   "source": [
    "import os\n",
    "import pdfplumber\n",
    "from docx import Document"
   ]
  },
  {
   "cell_type": "code",
   "execution_count": 2,
   "metadata": {},
   "outputs": [],
   "source": [
    "def extract_text(file_path):\n",
    "    try:\n",
    "        if file_path.endswith(\".txt\"):\n",
    "            with open(file_path, \"r\", encoding=\"utf-8\") as file:\n",
    "                return file.read()\n",
    "        elif file_path.endswith(\".pdf\"):\n",
    "            with pdfplumber.open(file_path) as pdf:\n",
    "                return \"\\n\".join([page.extract_text() for page in pdf.pages if page.extract_text()])\n",
    "        elif file_path.endswith(\".docx\"):\n",
    "            doc = Document(file_path)\n",
    "            return \"\\n\".join([para.text for para in doc.paragraphs])\n",
    "        else:\n",
    "            return \"Format file tidak didukung.\"\n",
    "    except Exception as e:\n",
    "        return f\"Error extracting text: {e}\"\n"
   ]
  },
  {
   "cell_type": "code",
   "execution_count": 3,
   "metadata": {},
   "outputs": [
    {
     "name": "stdout",
     "output_type": "stream",
     "text": [
      "File tidak ditemukan.\n"
     ]
    }
   ],
   "source": [
    "if __name__ == \"__main__\":\n",
    "    file_path = input(\"Masukkan path file: \")\n",
    "    if os.path.exists(file_path):\n",
    "        extracted_text = extract_text(file_path)\n",
    "        print(\"\\nTeks yang diekstrak:\\n\")\n",
    "        print(extracted_text)\n",
    "    else:\n",
    "        print(\"File tidak ditemukan.\")\n"
   ]
  }
 ],
 "metadata": {
  "kernelspec": {
   "display_name": "Python 3",
   "language": "python",
   "name": "python3"
  },
  "language_info": {
   "codemirror_mode": {
    "name": "ipython",
    "version": 3
   },
   "file_extension": ".py",
   "mimetype": "text/x-python",
   "name": "python",
   "nbconvert_exporter": "python",
   "pygments_lexer": "ipython3",
   "version": "3.13.1"
  }
 },
 "nbformat": 4,
 "nbformat_minor": 2
}
